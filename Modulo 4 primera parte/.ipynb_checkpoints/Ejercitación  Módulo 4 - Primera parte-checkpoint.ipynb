{
 "cells": [
  {
   "cell_type": "markdown",
   "id": "74150884",
   "metadata": {},
   "source": [
    "# <center> <span style='color:#3A40A2 '> Ejercitación módulo 4 - Primera parte </span></center> \n",
    "\n",
    "**Profesor Adjunto:** Mag. Bioing. Baldezzari Lucas\n",
    "\n",
    "<p style='text-align: left;'> V2022 </p>\n",
    "\n",
    "<hr style=\"border:1px solid gray\"> </hr>"
   ]
  },
  {
   "cell_type": "markdown",
   "id": "3f100fe1",
   "metadata": {},
   "source": [
    "##### Ejercicio 1\n",
    "\n",
    "Implemente una clase llamada *BasicStats()*. Esta clase deberá, a partir de una lista de números, calcular la media, la mediana, el desvío estándar, la varianza, los cuartiles $Q_1$, $Q_2$ y $Q_3$ y chequear la presencia de valores outliers, la clase debería también tener un método que permita quitar dichos valores.\n",
    "\n",
    "- Proponga un constructor, atributos y métodos que considere adecuados para llevar a cabo la tarea.\n",
    "- Genere una función main() para mostrar que su clase funciona.\n",
    "\n",
    "Nota: No utilice funciones built-in para el cálculo de los valores estadísticos. Se recomienda usar funciones que ya se hayan implementados en ejercicios anteriores."
   ]
  },
  {
   "cell_type": "code",
   "execution_count": 8,
   "id": "2e84b3c8",
   "metadata": {},
   "outputs": [
    {
     "name": "stdout",
     "output_type": "stream",
     "text": [
      "Los valores atipicos son:  [112313]\n",
      "desea eliminar los valores atipicos? Si/No  ->SI\n"
     ]
    },
    {
     "ename": "ValueError",
     "evalue": "list.remove(x): x not in list",
     "output_type": "error",
     "traceback": [
      "\u001b[1;31m---------------------------------------------------------------------------\u001b[0m",
      "\u001b[1;31mValueError\u001b[0m                                Traceback (most recent call last)",
      "Input \u001b[1;32mIn [8]\u001b[0m, in \u001b[0;36m<cell line: 70>\u001b[1;34m()\u001b[0m\n\u001b[0;32m     65\u001b[0m basicstats \u001b[38;5;241m=\u001b[39m BasicStats (lista)\n\u001b[0;32m     67\u001b[0m \u001b[38;5;66;03m# basicstats.getMedia()\u001b[39;00m\n\u001b[0;32m     68\u001b[0m \u001b[38;5;66;03m# basicstats.getMediana()\u001b[39;00m\n\u001b[0;32m     69\u001b[0m \u001b[38;5;66;03m# basicstats.getVarianza()\u001b[39;00m\n\u001b[1;32m---> 70\u001b[0m \u001b[43mbasicstats\u001b[49m\u001b[38;5;241;43m.\u001b[39;49m\u001b[43mgetQuartiles\u001b[49m\u001b[43m(\u001b[49m\u001b[43m)\u001b[49m\n",
      "Input \u001b[1;32mIn [8]\u001b[0m, in \u001b[0;36mBasicStats.getQuartiles\u001b[1;34m(cls)\u001b[0m\n\u001b[0;32m     58\u001b[0m decision\u001b[38;5;241m.\u001b[39mupper()\n\u001b[0;32m     59\u001b[0m \u001b[38;5;28;01mif\u001b[39;00m decision\u001b[38;5;241m==\u001b[39m(\u001b[38;5;124m\"\u001b[39m\u001b[38;5;124mSI\u001b[39m\u001b[38;5;124m\"\u001b[39m):\n\u001b[1;32m---> 60\u001b[0m     \u001b[43mlista\u001b[49m\u001b[38;5;241;43m.\u001b[39;49m\u001b[43mremove\u001b[49m\u001b[43m(\u001b[49m\u001b[43moutlier\u001b[49m\u001b[43m)\u001b[49m\n\u001b[0;32m     61\u001b[0m     \u001b[38;5;28mprint\u001b[39m(\u001b[38;5;124m\"\u001b[39m\u001b[38;5;124msu lista sin los valores atipicos son: \u001b[39m\u001b[38;5;124m\"\u001b[39m, lista)\n\u001b[0;32m     62\u001b[0m \u001b[38;5;28;01melse\u001b[39;00m:\n",
      "\u001b[1;31mValueError\u001b[0m: list.remove(x): x not in list"
     ]
    }
   ],
   "source": [
    "## Ejercicio 1 \n",
    "import numpy as np  #importo numpy\n",
    "\n",
    "lista=[-5, -5, -3, -4, 0, -1,999,1221,112313]\n",
    "\n",
    "class BasicStats():\n",
    "    \"\"\"En esta clase vamos a poder obtenerla media, la mediana, el desvío estándar, la varianza, los cuartiles  𝑄1 ,  𝑄2  y  𝑄3  y chequear la presencia de valores outliers \"\"\"\n",
    "    def __init__(self, lista):\n",
    "        self.lista=lista\n",
    "    \n",
    "    @classmethod\n",
    "    def getMedia(cls):\n",
    "        media = sum(lista)/len(lista)\n",
    "        return media\n",
    "        \n",
    "        \n",
    "    @classmethod\n",
    "    def getMediana(cls):\n",
    "        n = len(lista)\n",
    "        s = sorted(lista)\n",
    "        mediana=(s[n//2-1]/2.0+s[n//2]/2.0, s[n//2])[n % 2] \n",
    "        return mediana\n",
    "        \n",
    "    @classmethod\n",
    "    def getDesv(cls):\n",
    "        desv = [(x - basicstats.getMedia()) ** 2 for x in lista]\n",
    "        return desv\n",
    "        \n",
    "    @classmethod\n",
    "    def getVarianza(cls):\n",
    "        #media = sum(lista) / len(lista)\n",
    "        desv = [(x - basicstats.getMedia()) ** 2 for x in lista]\n",
    "        varianza = sum(desv) / len(lista)\n",
    "        return varianza\n",
    "    \n",
    "    @classmethod\n",
    "    def getQuartiles (cls):\n",
    "        sort_lista = np.sort(lista) #ordeno la lista\n",
    "        sort_lista \n",
    "        Q1 = np.percentile(lista, 25)    #calculo los cuertiles 1 y 3 que me van a servir par calcular el rango\n",
    "        Q3 = np.percentile(lista, 75)   \n",
    "\n",
    "        RIC = Q3 - Q1  # Se calcula el rango intercuartil para calcular los limites\n",
    "\n",
    "        low_lim = Q1 - 1.5 * RIC #Limite inferior\n",
    "        up_lim = Q3 + 1.5 * RIC #limite superior\n",
    "\n",
    "        outlier =[] \n",
    "        for i in lista: \n",
    "            if ((i> up_lim) or (i< low_lim)):    #Recorro la lista y separo los numeros atipicos\n",
    "                 outlier.append(i)               #Agrego los numeros atipicos a una lista para despues mostrarlos\n",
    "\n",
    "        if outlier==[]:\n",
    "            print (\"None\") #En caso de que no existan valores atípicos, la función retorna \"None\".\n",
    "        else:\n",
    "            print('Los valores atipicos son: ', outlier)\n",
    "            decision=str(input(\"desea eliminar los valores atipicos? Si/No  ->\"))\n",
    "            decision.upper()\n",
    "            if decision==(\"SI\"):\n",
    "                lista.remove(outlier)\n",
    "                print(\"su lista sin los valores atipicos son: \", lista)\n",
    "            else:\n",
    "                pass\n",
    "        \n",
    "basicstats = BasicStats (lista)\n",
    "\n",
    "# basicstats.getMedia()\n",
    "# basicstats.getMediana()\n",
    "# basicstats.getVarianza()\n",
    "basicstats.getQuartiles()\n",
    "\n"
   ]
  },
  {
   "cell_type": "markdown",
   "id": "44d015f1",
   "metadata": {},
   "source": [
    "##### Ejercicio 2\n",
    "\n",
    "Responda qué espera ver y por qué, en cada uno de los puntos señalados con *#* en el código siguiente.\n",
    "\n",
    "```Python\n",
    "class miClase(object):\n",
    "\n",
    "    atributoDeClase = 'Atributo de Clase'\n",
    "\n",
    "    def __init__(self, val):\n",
    "        self.atributoInstancia = val\n",
    "\n",
    "\n",
    "a = miClase(1)\n",
    "b = miClase(2)\n",
    "\n",
    "print(a.atributoInstancia) #1\n",
    "print(b.atributoInstancia) #2\n",
    "\n",
    "print(a.atributoDeClase == b.atributoDeClase) #3\n",
    "print(a.atributoDeClase is b.atributoDeClase) #4\n",
    "\n",
    "b.atributoDeClase = 4\n",
    "print(a.atributoDeClase) #5\n",
    "\n",
    "del a.atributoDeClase\n",
    "MyClass.atributoDeClase = 4 #6\n",
    "```\n",
    "\n",
    "**Su respuesta acá**\n",
    "1. \n",
    "2.\n",
    "3.\n",
    "4.\n",
    "5.\n",
    "6.\n",
    "\n",
    "*TODO*"
   ]
  },
  {
   "cell_type": "code",
   "execution_count": 4,
   "id": "8435a50d",
   "metadata": {},
   "outputs": [
    {
     "name": "stdout",
     "output_type": "stream",
     "text": [
      "4.5\n"
     ]
    }
   ],
   "source": []
  },
  {
   "cell_type": "markdown",
   "id": "52d1168e",
   "metadata": {},
   "source": [
    "##### Ejercicio 3\n",
    "\n",
    "A partir del código debajo, y aplicando ingeniería inversa, cree la clase PremioNobel().\n",
    "\n",
    "```Python\n",
    "premio2010 = PremioNobel(\"Paz\", 2010, \"Liu Xiaobo\")\n",
    "print(premio2010.category, premio2010.year, premio2010.winner)\n",
    "```"
   ]
  },
  {
   "cell_type": "code",
   "execution_count": 2,
   "id": "773b21c2",
   "metadata": {},
   "outputs": [],
   "source": [
    "## TO DO..."
   ]
  },
  {
   "cell_type": "markdown",
   "id": "53002827",
   "metadata": {},
   "source": [
    "##### Ejercicio 4\n",
    "\n",
    "A partir de la clase PremioNobel() sobreescriba el método *\\_\\_str()\\_\\_* para utilizar *print()* e imprimir información del objeto.\n",
    "\n",
    "```Python\n",
    "premio2010 = PremioNobel(\"Paz\", 2010, \"Liu Xiaobo\")\n",
    "print(premio2010)\n",
    "```"
   ]
  },
  {
   "cell_type": "code",
   "execution_count": 3,
   "id": "09d99a5c",
   "metadata": {},
   "outputs": [],
   "source": [
    "## TODO"
   ]
  },
  {
   "cell_type": "markdown",
   "id": "cc3f91bf",
   "metadata": {},
   "source": [
    "##### Ejercicio 5\n",
    "\n",
    "Escriba una clase en Python para encontrar el índice de un par de elementos de una lista de números enteros que sumen un número determinado.\n",
    "\n",
    "La clase debería ser capaz de recibir una lista de enteros y debería tener un método que reciba un valor *blanco* o *target* y devuelva cuales ítems de aquellos elementos que al sumarse, dan como resultado el valor *target* pasado como argumento.\n",
    "\n",
    "Por ejemplo, si la lista fuera [10,20,10,30,40,50,60,70,90] y el *target* fuera 50, el método debería devolver (3,5).\n",
    "\n",
    "Nota: No usar el mismo elemento de la lista de enteros dos veces."
   ]
  },
  {
   "cell_type": "code",
   "execution_count": null,
   "id": "6705261c",
   "metadata": {},
   "outputs": [],
   "source": [
    "## TODO"
   ]
  },
  {
   "cell_type": "markdown",
   "id": "5ed20bb4",
   "metadata": {},
   "source": [
    "##### Ejercicio 6\n",
    "\n",
    "Tome la clase Punto() vista en clase de teoría y sobreescriba los métodos *\\_\\_add\\_\\_* y *\\_\\_sub\\_\\_* para sumar y restar las coordenadas de dos puntos.\n",
    "\n",
    "Ejemplo:\n",
    "\n",
    "\n",
    "```Python\n",
    "p1 = Punto(1,2)\n",
    "p2 = Punto(3,4)\n",
    "\n",
    "p3 = p1+p2\n",
    "p4 = p2-p1\n",
    "print(p3)\n",
    "## Debería imprimir P(4,6)\n",
    "print(p4)\n",
    "## Debería imprimir P(2,2)\n",
    "```\n",
    "\n",
    "*Hint*: Sería bueno que los métodos retornen una nueva instancia de la clase Punto() con el resultado de la suma o resta."
   ]
  },
  {
   "cell_type": "code",
   "execution_count": 1,
   "id": "ac24385f",
   "metadata": {},
   "outputs": [],
   "source": [
    "## TODO"
   ]
  }
 ],
 "metadata": {
  "kernelspec": {
   "display_name": "Python [conda env:Maxi1] *",
   "language": "python",
   "name": "conda-env-Maxi1-py"
  },
  "language_info": {
   "codemirror_mode": {
    "name": "ipython",
    "version": 3
   },
   "file_extension": ".py",
   "mimetype": "text/x-python",
   "name": "python",
   "nbconvert_exporter": "python",
   "pygments_lexer": "ipython3",
   "version": "3.9.7"
  }
 },
 "nbformat": 4,
 "nbformat_minor": 5
}
