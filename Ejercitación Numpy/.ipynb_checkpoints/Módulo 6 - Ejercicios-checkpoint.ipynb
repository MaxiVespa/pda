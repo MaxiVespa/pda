{
 "cells": [
  {
   "cell_type": "markdown",
   "id": "3b028086",
   "metadata": {},
   "source": [
    "# <center> <span style='color:#ff6655'>Ejercitación Módulo 6</span></center>\n",
    "\n",
    "Módulo 6 - Parte teórica\n",
    "\n",
    "**Profesor Adjunto:** Mag. Bioing. Baldezzari Lucas\n",
    "\n",
    "<p style='text-align: left;'> V2022 </p>\n",
    "\n",
    "<hr style=\"border:1px solid gray\"> </hr>"
   ]
  },
  {
   "cell_type": "markdown",
   "id": "cd6990b8",
   "metadata": {},
   "source": [
    "### <span style='color:#16C79A'>1. Basics</span>\n",
    "\n",
    "Implemente lo siguiente:\n",
    "\n",
    "- 1.1) Cree un array de ceros -*vector nulo*- de 10 elementos.\n",
    "- 1.2) Cree un vector nulo de 10 elementos donde el 6to elemento sea 1.\n",
    "- 1.3) Cree un aray de 3x3x3 de valores enteros y aleatorios entre 1 y 20.\n",
    "- 1.4) Cree un array de 5x5 y ordenelo por filas. Repita pero ordenando por columnas. Revise la documentación de *numpy*sort()*.\n",
    "- 1.5) Considere un arreglo con shape *(6,7,8)*, ¿cuales son los índices *(x,y,z)* del elemento 100? \n",
    "- 1.6) Cree un array 2D que tenga valores 1 en sus bordes y cero dentro.\n",
    "- 1.7) Cree un array de 8x8 y genere un patrón de tablero de ajedrez con ceros y unos. Un 0 representa un casillero blanco y un 1 representa un casillero negro.\n",
    "- 1.8) Cree una matriz de 4x4 donde sus columnas tengan valores desde 1 a 4.\n",
    "- 1.9) Cree un vector de 10 valores entre 0 y 1 (sin incluir los extremos)."
   ]
  },
  {
   "cell_type": "code",
   "execution_count": 16,
   "id": "d5a73f94",
   "metadata": {},
   "outputs": [
    {
     "name": "stdout",
     "output_type": "stream",
     "text": [
      "[[1 1 1 1 1 1 1 1 1 1]\n",
      " [1 0 0 0 0 0 0 0 0 1]\n",
      " [1 0 0 0 0 0 0 0 0 1]\n",
      " [1 0 0 0 0 0 0 0 0 1]\n",
      " [1 0 0 0 0 0 0 0 0 1]\n",
      " [1 0 0 0 0 0 0 0 0 1]\n",
      " [1 0 0 0 0 0 0 0 0 1]\n",
      " [1 0 0 0 0 0 0 0 0 1]\n",
      " [1 0 0 0 0 0 0 0 0 1]\n",
      " [1 1 1 1 1 1 1 1 1 1]]\n"
     ]
    },
    {
     "data": {
      "text/plain": [
       "array([1, 0, 1, 1, 0, 1, 0, 0, 0, 0])"
      ]
     },
     "execution_count": 16,
     "metadata": {},
     "output_type": "execute_result"
    }
   ],
   "source": [
    "import numpy as np\n",
    "#1.1) \n",
    "vn = np.zeros(10)\n",
    "# vn\n",
    "\n",
    "#1.2)\n",
    "vn2 = np.zeros(10)\n",
    "vn2[5]=1\n",
    "# vn2\n",
    "\n",
    "#1.3)\n",
    "random = np.random.randint(0,20, size = (3,3,3))\n",
    "# random\n",
    "\n",
    "#1.4)\n",
    "random01 = np.random.random((5,5))\n",
    "randomSort = np.sort(random01, axis=None)\n",
    "randomSort2 = np.sort(random01, axis=0)\n",
    "# random01\n",
    "# randomSort\n",
    "# randomSort2\n",
    "\n",
    "#1.5)\n",
    "arrshap=np.unravel_index(100,(6,7,8))\n",
    "# arrshap\n",
    "\n",
    "#1.6) Cree un array 2D que tenga valores 1 en sus bordes y cero dentro.\n",
    "matriz = np.zeros((8,8), dtype = int)  \n",
    "borde = np.pad(matriz, pad_width=1, mode='constant', constant_values=1) \n",
    "print(borde)\n",
    "\n",
    "#1.7) Cree un array de 8x8 y genere un patrón de tablero de ajedrez con ceros y unos. Un 0 representa un casillero blanco y un 1 representa un casillero negro.\n",
    "tablero = np.zeros((8,8), dtype = int)\n",
    "tablero[::2,1::2] = 1\n",
    "tablero[1::2,::2] = 1\n",
    "#tablero\n",
    "\n",
    "#1.8) Cree una matriz de 4x4 donde sus columnas tengan valores desde 1 a 4.\n",
    "matriz1=np.tile( np.arange(1,5) , 4).reshape(4,4)\n",
    "# matriz1\n",
    "\n",
    "#1.9) Cree un vector de 10 valores entre 0 y 1 (sin incluir los extremos).\n",
    "random = np.random.randint(0,2, size = (10))\n",
    "random"
   ]
  },
  {
   "cell_type": "markdown",
   "id": "c757d8bd",
   "metadata": {},
   "source": [
    "### <span style='color:#16C79A'>2. Sumarizing datos</span>\n",
    "\n",
    "- 2.1) A partir de un array 2D la media total, la media a lo largo de las filas y la media a lo largo de las columnas. Agregue una columna con las medias por columna. Idem para filas.\n",
    "- 2.2) Repita el punto anterior pero para el desvío estándar.\n",
    "- 2.3) Carge una imágen RGB y genere otro array con los valores medios de los píxeles en cada canal.\n",
    "- 2.4) Cree un array de 11x11 y llenelo de valores aleatorios enteros entre 1 y 100 y normalice sus valores. La normalización esta dada por,\n",
    "$$ z_i = \\frac{x_i - \\bar{X}}{\\sigma} $$\n",
    "- 2.5) A partir de un array de números enteros, encuentre cual es valor que más se repite. Revise la función *nunmpy.unique()* para ayudarse."
   ]
  },
  {
   "cell_type": "code",
   "execution_count": 19,
   "id": "b19168c5",
   "metadata": {},
   "outputs": [
    {
     "ename": "SyntaxError",
     "evalue": "invalid syntax (1231404105.py, line 14)",
     "output_type": "error",
     "traceback": [
      "\u001b[1;36m  Input \u001b[1;32mIn [19]\u001b[1;36m\u001b[0m\n\u001b[1;33m    devStanCol = np.std((lista, axis=0)) #Calcula la desviación standar en las columnas del array\u001b[0m\n\u001b[1;37m                                    ^\u001b[0m\n\u001b[1;31mSyntaxError\u001b[0m\u001b[1;31m:\u001b[0m invalid syntax\n"
     ]
    }
   ],
   "source": [
    "#creando array de 2D\n",
    "a = [[1, 2, 3, 3, 5, 9, 12], [4, 5, 6, 8, 1, 3, 4]]\n",
    "lista = np.array(a) \n",
    "lista\n",
    "#Punto 2.1\n",
    "media = np.mean(lista) #Calculo la media general del array\n",
    "mediaFil = np.mean(lista, axis=1) #Calcula la media en las filas del array\n",
    "mediaFil\n",
    "\n",
    "mediaCol = np.mean(lista, axis=0) #Calcula la media en las columnas del array\n",
    "mediaCol\n",
    "\n",
    "#Punto 2.2\n",
    "devStanCol = np.std((lista, axis=0)) #Calcula la desviación standar en las columnas del array\n",
    "devStandCol \n",
    "\n",
    "devStanFil = np.std((lista, axis=1)) #Calcula la desviación standar en las filas del array\n",
    "devStanCol\n",
    "\n",
    "#Punto 2.3\n",
    "\n",
    "#Punto 2.4\n",
    "arr = np.random.randint(1,100, size = (11,11))\n",
    "arr\n",
    "\n",
    "#Función para realizar la normalización del array\n",
    "def normalize(arr):\n",
    "    norm_arr=[]\n",
    "    media = np.mean(arr)\n",
    "    desvStan = np.std (arr)\n",
    "    for i in arr:\n",
    "        norM = (i - media) / desvStan\n",
    "        norm_arr.append(norM)\n",
    "    return norm_arr\n",
    "\n",
    "#normalize(arr)\n",
    "\n",
    "#Punto 2.5\n",
    "arr = np.random.randint(1,100, size = (11,11))\n",
    "arr\n",
    "\n",
    "unicos = np.unique(arr, return_index=False, return_inverse=False, return_counts=True, axis=None)\n",
    "#unicos = np.unique(arr)\n",
    "unicos"
   ]
  },
  {
   "cell_type": "markdown",
   "id": "f678a01a",
   "metadata": {},
   "source": [
    "### <span style='color:#16C79A'>3. Filtrando arrays</span>\n",
    "\n",
    "- 3.1) Dado un array, reemplazar los elementos que estén entre 2 y 5 por su negado (positivos a negativos, y viceversa).\n",
    "- 3.2) Obtener los índices de un arreglo 2D de enteros correspondientes a los valores que sean números primos.\n",
    "- 3.3) Obtener un array con los índices correspondientes a aquellos valores que se repiten en dos arrays 1D.\n",
    "\n",
    "    ```python\n",
    "    ## Ejemplo 3.3\n",
    "\n",
    "    a = np.array([1,2,3,4,5])\n",
    "    b = np.array([1,4,4,4,5])\n",
    "\n",
    "    ## el programa debe retornar un array con los valores\n",
    "    ## [0,3,4]\n",
    "    ```"
   ]
  },
  {
   "cell_type": "code",
   "execution_count": null,
   "id": "52b505ef",
   "metadata": {},
   "outputs": [],
   "source": []
  },
  {
   "cell_type": "markdown",
   "id": "fa1c00d5",
   "metadata": {},
   "source": [
    "### <span style='color:#16C79A'>4. Operaciones básicas con matrices</span>\n",
    "\n",
    "- 4.1) A partir de un array 2D de valores aleatorios que representan coordenadas de puntos en el espacio 2D encontrar la distancia euclidiana punto a punto. Utilice *numpy.random.random()* para generar el array.\n",
    "- 4.2) Calcule los valores medios de cada columna de una matriz 2D. Reste los valores medios calculados a sus correspondienes columnas.\n",
    "- 4.3) Implemente una función que devuelva *True* si alguna columna de una matriz 2D posee una *columna nula*, donde una columna nula es aquella que esta compuesta de ceros.\n",
    "- 4.4) Implemente una fucnión que devuelva el produco punto de dos matrices, en el caso de que estas no sean compatibles la función debe retornar None.\n",
    "- 4.5) Implemente una función que devuelva la diagonal a partir del producto punto entre dos matrices cuadradas.\n",
    "- 4.6) A partir de un array 2D cambie de posición de dos filas cualquiera."
   ]
  },
  {
   "cell_type": "markdown",
   "id": "af4d3b7a",
   "metadata": {},
   "source": [
    "### <span style='color:#16C79A'>5. Desafío</span>\n",
    "\n",
    "- 5.1) A partir de un array 2D lleno de ceros, implemente una función que reemplace *p* elementos iguales a 1 en posiciones aleatorias del array. Utilice *numpy.put()* y *numpy.random.choice()*.\n",
    "- 5.2) Ordene un array 2D en base a la *n-ésima* columna. Hint: Revise *numpy.argsort()* para resolver.\n",
    "- 5.3) Genere una función llamada *mediaMovil()* que reciba como parámetro un array y un valor entero correspondiente a la cantidad de elementos a calcular la media. La función debe retornar un nuevo array con las medias móviles calculadas.\n",
    "- 5.4) A partir de un array 1D obtenga un array con los valores correspondientes al \"ranking\" que ocupan los valores del array original, sin cambiar el orden (Hint: Se recomienda usar *numpy.argsort()*). Vea el ejemplo.\n",
    "\n",
    "    ```python\n",
    "    np.random.seed(42)\n",
    "    a = np.random.randint(20, size=10)\n",
    "    ## a es array([ 6, 19, 14, 10,  7,  6, 18, 10, 10,  3])\n",
    "    \n",
    "    ## salida esperada\n",
    "    [1, 9, 7, 4, 3, 2, 8, 5, 6, 0]\n",
    "    ```\n",
    "    \n"
   ]
  },
  {
   "cell_type": "code",
   "execution_count": 17,
   "id": "35780252",
   "metadata": {},
   "outputs": [
    {
     "name": "stdout",
     "output_type": "stream",
     "text": [
      "[[12  7 13]\n",
      " [12  7 13]\n",
      " [21 12 33]\n",
      " [21 12 33]\n",
      " [31 20 21]\n",
      " [31 20 21]]\n",
      "[ 6 19 14 10  7  6 18 10 10  3]\n",
      "[9 0 5 4 3 7 8 2 6 1]\n"
     ]
    }
   ],
   "source": [
    "#5.1\n",
    "def Remplazo(a:int,b:int):\n",
    "    \"\"\"Recibe dos enteros para generar una matriz de a x b\"\"\"\n",
    "    matriz = np.zeros((a,b), dtype = int)   \n",
    "    largo=matriz.shape[0]*matriz.shape[1]\n",
    "    numAle=random.randint(0,largo)\n",
    "    posicionesRand = np.random.choice(largo,numAle)\n",
    "    np.put(matriz, posicionesRand, [1], mode='warp')\n",
    "    return matriz\n",
    "#5.2\n",
    "def OrdenarPorColumna(matriz,numCol:int):\n",
    "    \"\"\"Recibe numpy array y un entero para valor de columna\"\"\"\n",
    "    return matriz[matriz[:,numCol].argsort()]\n",
    "\n",
    "matriz = np.array([[21, 12, 33], \n",
    "                    [12,  7, 13],\n",
    "                    [31, 20, 21],\n",
    "                    [21, 12, 33], \n",
    "                    [12,  7, 13],\n",
    "                    [31, 20, 21]])\n",
    "\n",
    "print(OrdenarPorColumna(matriz,0))\n",
    "#5.3\n",
    "def mediaMovil(matriz, numElementos:int):\n",
    "    \"\"\"Recibe matriz y numero de elementos para calcular la media\"\"\"\n",
    "    return np.convolve(matriz, np.ones(numElementos), 'valid') / numElementos\n",
    "\n",
    "matriz = np.array([10,5,8,9,15,22,26,11,15,16,18,7])\n",
    "mediaMovil(matriz,4)\n",
    "#5.4\n",
    "np.random.seed(42)\n",
    "a = np.random.randint(20, size=10)\n",
    "print(a)\n",
    "ranking=(np.argsort(a))\n",
    "print(ranking)"
   ]
  },
  {
   "cell_type": "markdown",
   "id": "ca8ef9fd",
   "metadata": {},
   "source": [
    "### <span style='color:#16C79A'>6. Dividiendo una imágen en cuadrantes</span>\n",
    "\n",
    "Cargue una imágen RGB y obtenga 4 arrays correspondientes a los cuatro cadrantes de la imágen."
   ]
  },
  {
   "cell_type": "markdown",
   "id": "5a050d9d",
   "metadata": {},
   "source": [
    "### <span style='color:#16C79A'>7. Filtrando señal de plestimografía (obligatorio)</span>\n",
    "\n",
    "Cargue la señal de fotoplestimografía utilizada en la guía de ejercicios del módulo 4 y apliquele la función *mediaMovil()* realizada en el ejercicio 5.3). ¿Hay algún cambio en la señal? ¿Qué tipo de filtro es una media movil?"
   ]
  },
  {
   "cell_type": "code",
   "execution_count": null,
   "id": "1bceb733",
   "metadata": {},
   "outputs": [],
   "source": []
  },
  {
   "cell_type": "markdown",
   "id": "329fb430",
   "metadata": {},
   "source": [
    "### <span style='color:#16C79A'>8. Mejorando la clase *Image* y el módulo *procesImage* (obligatorio)</span>\n",
    "\n",
    "Utilizando numpy y sus funcionalidades implemente una versión mejorada de la clase *Image* y las funciones dentro del módulo *procesImage* del ejercicio 6 de la guía de práctica del Módulo 4."
   ]
  },
  {
   "cell_type": "code",
   "execution_count": null,
   "id": "fdb80fc3",
   "metadata": {},
   "outputs": [],
   "source": [
    "#8\n"
   ]
  },
  {
   "cell_type": "markdown",
   "id": "f7475e9b",
   "metadata": {},
   "source": [
    "### <span style='color:#16C79A'>9. Analizando eficiencia energética en hogares (obligatorio)</span>\n",
    "\n",
    "A continuación realizará el análisis de algunos parámetros acerca de los requerimientos para climatizar un hogar, ya sea para verano o invierno, es decir, la *eficiencia energética*. Usted cuenta con un [set de datos](https://archive.ics.uci.edu/ml/datasets/Energy+efficiency#) llamado *eficienciaEnergética.csv*, el cual contiene 10 columnas de datos, las cuales de izquierda a derecha son,\n",
    "\n",
    "- 1) Compactación relativa: Medida de la compactación de la casa. Hogares mas compactos, menos espacios vacíos a los cuales enfriar o calentar. Los valores van de 0 a 1.\n",
    "- 2) Superficie total: Superficie (en $m^2$) total del hogar.\n",
    "- 3) Área de muros: Superficie total (en $m^2$) cubierta por muros.\n",
    "- 4) Área de techos: Superficie total (en $m^2$) de techos.\n",
    "- 5) Altura total: Algtura total (en $m$) de la casa.\n",
    "- 6) Orientación de ventanas: Si las ventanas apuntan al norte (2), al sur (3),a l este (4) o al oeste (5).\n",
    "- 7) Proporción de área de vidriado: Es la proporción de edificación que esta cubierta por aberturas de vidrio. En este set de datos puede tomar 4 valores, los mismos son, 0.0, 0.1, 0.25 y 0.4.\n",
    "- 8) Distribución de ventanas: Distribución de ventanas en el hogar.\n",
    "- 9) Carga para calentamiento: Cuanta carga (en KWatts) es necesario aportar al hogar para calentarlo.\n",
    "- 10) Carga para enfriamiento: Cuanta carga (en KWatts) de frío es necesario aportar al hogar para enfriarlo.\n",
    "\n",
    "A continuación se cargan los datos."
   ]
  },
  {
   "cell_type": "code",
   "execution_count": 10,
   "id": "588a2c3a",
   "metadata": {},
   "outputs": [],
   "source": [
    "## Cargando datos\n",
    "import numpy as np\n",
    "datos = np.genfromtxt('eficienciaEnergética.csv',delimiter=',',dtype = np.float64)"
   ]
  },
  {
   "cell_type": "markdown",
   "id": "6be9b1e0",
   "metadata": {},
   "source": [
    "#### Responda\n",
    "\n",
    "##### A) Generales\n",
    "- A.1 ¿Cuantos hogares han sido utilizados en el set?\n",
    "- A2. ¿Cuáles son los valores promedios de Área de Muros, Áreas de techos y Superficie total? También calcule los desvíos estándar.\n",
    "- A3. ¿Cuales son los valores promedios y los desvíos estándar para las cargas de calentamiento y enfriamiento?"
   ]
  },
  {
   "cell_type": "code",
   "execution_count": 11,
   "id": "35890bec",
   "metadata": {},
   "outputs": [
    {
     "name": "stdout",
     "output_type": "stream",
     "text": [
      "Los hogares usados fueron: 768\n",
      "671.7083333333334 88.02874964401623\n",
      "43.598069529127855 43.598069529127855\n",
      "45.136535729261375 45.136535729261375\n",
      "22.307200520833334 10.08362445437526\n",
      "24.58776041666667 9.507109986571445\n"
     ]
    }
   ],
   "source": [
    "## TODO A\n",
    "#A.1 \n",
    "filas = datos.shape[0]\n",
    "print(f\"Los hogares usados fueron: {filas}\")\n",
    "\n",
    "#A.2\n",
    "\n",
    "#Promedios y Desviación Estandar para Área de Muros, Áreas de techos y Superficie tota\n",
    "supTotal = np.mean(datos[:,1]) # print(matrix[:,1].shape)\n",
    "supTotalDS = np.std(datos[:,1])\n",
    "print(supTotal , supTotalDS)\n",
    "\n",
    "areaMur = np.mean(datos[:,2]) #print(datos[:,2].shape)\n",
    "areaMurDS = np.std(datos[:,2])\n",
    "print(areaMurDS, areaMurDS)\n",
    "\n",
    "areaTech = np.mean(datos[:,3]) #print(datos[:,3].shape)\n",
    "areaTechDS = np.std(datos[:,3])\n",
    "print(areaTechDS, areaTechDS)\n",
    "\n",
    "#A.3 Promedios y Desviación Estandar para cargas de calentamiento y enfriamiento\n",
    "\n",
    "cCal = np.mean(datos[:,8]) #print(datos[:,8].shape)\n",
    "cCalDS = np.std(datos[:,8])\n",
    "print(cCal, cCalDS)\n",
    "\n",
    "cEnf = np.mean(datos[:,9]) #print(datos[:,9].shape)\n",
    "cEnfDS = np.std(datos[:,9])\n",
    "print(cEnf, cEnfDS)"
   ]
  },
  {
   "cell_type": "markdown",
   "id": "853bd6d0",
   "metadata": {},
   "source": [
    "##### B) Acerca de compactación relativa\n",
    "- B1) ¿Cuál es el valor medio de compactación relativa?\n",
    "- B2) ¿Cuál es la superficie total de la casa (o casas) con menor compactación? Idem para mayor compactación."
   ]
  },
  {
   "cell_type": "code",
   "execution_count": 12,
   "id": "12daaf73",
   "metadata": {},
   "outputs": [
    {
     "name": "stdout",
     "output_type": "stream",
     "text": [
      "el valor medio de la compactacion relativa es:  0.7641666666666667\n",
      "0.98\n"
     ]
    }
   ],
   "source": [
    "## TODO B\n",
    "#B1 Valor medio de #1) Compactación relativa\n",
    "valMed = np.mean(datos[:,0])\n",
    "print(\"el valor medio de la compactacion relativa es: \",valMed)\n",
    "\n",
    "#B2 ¿Cuál es la superficie total de la casa (o casas) con menor compactación? Idem para mayor compactación.\n",
    "\n",
    "subArr = datos[:,:2]   #Creamos un subarray con las primeras dos columnas del array principal\n",
    "Min = subArr.min(axis=0)[0] #Obtenemos el valor minimo para la casa con menor compactación\n",
    "\n",
    "\n",
    "Max = subArr.max(axis=0)[0] #Obtenemos el valor maximo para la casa con ayor compactación\n",
    "print(Max)\n"
   ]
  },
  {
   "cell_type": "markdown",
   "id": "17505bcb",
   "metadata": {},
   "source": [
    "##### C) Comparando proporción de área de vidriado con las carga de calentamiento y carga de enfriamiento.\n",
    "\n",
    "- C1) ¿Cuantos hogares por cada valor de *proporción de área de vidriado* hay en el set?\n",
    "- C2) Utilice *plt.hist()* de la librería *matplotlip.pyplot* para graficar el histograma de la columna *proporción de área de vidriado*.\n",
    "- C3) Genere un array formado por las columnas de *proporción de área de vidriado*, la de *Carga para calentamiento* y la de *Carga para enfriamiento*."
   ]
  },
  {
   "cell_type": "code",
   "execution_count": 13,
   "id": "75b12c62",
   "metadata": {},
   "outputs": [
    {
     "name": "stdout",
     "output_type": "stream",
     "text": [
      "{0.0: 48, 0.1: 240, 0.25: 240, 0.4: 240}\n"
     ]
    }
   ],
   "source": [
    "## TODO desde C1 a C3\n",
    "aVid = datos[:,6]\n",
    "unique, counts = np.unique(aVid, return_counts=True) #Cuento los hogares para cada valor de proporción de area de vidriado\n",
    "print(dict(zip(unique, counts))) #Imprimo la cantidad de valores para cada proporción de area de vidriado"
   ]
  },
  {
   "cell_type": "markdown",
   "id": "fed3b49b",
   "metadata": {},
   "source": [
    "- C4) A partir de la matriz generada en C3) encuentre el valor medio de la carga total de calentamiento y la de enfriamiento para cada valor de *proporción de área de vidriado*, guarde estos arrays en los arrays *promediosCalentamiento* y *promediosEnfiramiento*, respectivamente."
   ]
  },
  {
   "cell_type": "code",
   "execution_count": 5,
   "id": "1d58d5ee",
   "metadata": {},
   "outputs": [],
   "source": [
    "### TODO C4\n",
    "propVidriado = [0, 0.1, 0.25, 0.4]\n",
    "promediosCalentamiento = ___\n",
    "promediosEnfiramiento = ___\n",
    "\n",
    "# ## Descomentar para graficar\n",
    "# plt.plot(propVidriado, promediosCalentamiento, marker=\"P\", label = \"Calentamiento\")\n",
    "# plt.plot(propVidriado, promediosEnfiramiento, marker=\"^\", label = \"Enfriamiento\")\n",
    "# plt.title(\"Ventanas vs carga calentamiento y enfriamiento\")\n",
    "# plt.ylabel(\"Carga\")\n",
    "# plt.ylim((0,30))\n",
    "# plt.xlabel(\"Proporción área de vidriado\")\n",
    "# plt.legend()\n",
    "# plt.show()"
   ]
  },
  {
   "cell_type": "markdown",
   "id": "5947639f",
   "metadata": {},
   "source": [
    "##### D) Comparando superficies de los techos contra carga de calentamiento y carga de enfriamiento\n",
    "\n",
    "- D1) ¿Cuántas áreas de techos diferentes hay en el set de datos? Guarde estos valores en un array llamado *roofAreas*. ¿Cuál es el promedio, en $m^2$ totales de todos los hogares?\n",
    "- D2) ¿Cuantos hogares por cada valor encontrado en el punto D1) hay en el set?\n",
    "- D3) Utilice *plt.hist()* de la librería *matplotlip.pyplot* para graficar el histograma de la columna *Área de techos*.\n",
    "- D4) Genere un array formado por las columnas de *Área de techos*, la de *Carga para calentamiento* y la de *Carga para enfriamiento*."
   ]
  },
  {
   "cell_type": "code",
   "execution_count": 24,
   "id": "7fa31afc",
   "metadata": {},
   "outputs": [
    {
     "name": "stdout",
     "output_type": "stream",
     "text": [
      "El promedio, en  𝑚2  totales de todos los hogares es: 176.60416666666666\n",
      "{110.25: 64, 122.5: 128, 147.0: 192, 220.5: 384}\n"
     ]
    },
    {
     "data": {
      "text/plain": [
       "(array([ 64., 128.,   0., 192.,   0.,   0.,   0.,   0.,   0., 384.]),\n",
       " array([110.25 , 121.275, 132.3  , 143.325, 154.35 , 165.375, 176.4  ,\n",
       "        187.425, 198.45 , 209.475, 220.5  ]),\n",
       " <BarContainer object of 10 artists>)"
      ]
     },
     "execution_count": 24,
     "metadata": {},
     "output_type": "execute_result"
    },
    {
     "data": {
      "image/png": "[encoded data removed]",
      "text/plain": [
       "<Figure size 432x288 with 1 Axes>"
      ]
     },
     "metadata": {
      "needs_background": "light"
     },
     "output_type": "display_data"
    }
   ],
   "source": [
    "## TODO de D1 a D4\n",
    "#D.1 \n",
    "import matplotlib.pyplot as plt\n",
    "aTech = datos[:,3]\n",
    "unique, counts = np.unique(aTech, return_counts=True) #Cuento las areas de techos diferentes en el set de datos\n",
    "dict(zip(unique, counts)) #Hallo las diferentes aréas de techos y cuento la frecuencia en que aparecen estas en los diferentes hogares\n",
    "\n",
    "promAr = aTech.mean() #Calculo el promedio en m^2 para todos los hogares\n",
    "print(f\"El promedio, en  𝑚2  totales de todos los hogares es: {promAr}\")\n",
    "\n",
    "#D.2 ¿Cuantos hogares por cada valor encontrado en el punto D1) hay en el set?\n",
    "print(dict(zip(unique, counts))) #Imprimo las diferentes areas de techos con la cantidad de hogares que poseen esas dimensiones\n",
    "\n",
    "#D.3 Utilice plt.hist() de la librería matplotlip.pyplot para graficar el histograma de la columna Área de techos.\n",
    "plt.hist(aTech)"
   ]
  },
  {
   "cell_type": "markdown",
   "id": "295f3213",
   "metadata": {},
   "source": [
    "¿Qué conclusiones puede sacar del gráfico anterior acerca de la cantidad de carga de calor y de enfriamiento que se necesita en cada hogar respecto de las proporciones de ventanas vidriadas?"
   ]
  },
  {
   "cell_type": "markdown",
   "id": "a7d75740",
   "metadata": {},
   "source": [
    "- D5) A partir de la matriz generada en D4) encuentre el valor medio de la carga total de calentamiento y la de enfriamiento para cada valor de *Área de techos*, guarde estos arrays en los arrays *promediosCalentamiento* y *promediosEnfiramiento*, respectivamente."
   ]
  },
  {
   "cell_type": "code",
   "execution_count": 7,
   "id": "a47765c4",
   "metadata": {},
   "outputs": [],
   "source": [
    "### TODO D5\n",
    "roofAreas = ___\n",
    "promediosCalentamiento = ___\n",
    "promediosEnfiramiento = ___\n",
    "\n",
    "# ## Descomentar para graficar\n",
    "# plt.plot(roofAreas, promediosCalentamiento, marker=\"P\", label = \"Calentamiento\")\n",
    "# plt.plot(roofAreas, promediosEnfiramiento, marker=\"^\", label = \"Enfriamiento\")\n",
    "# plt.title(\"Áreas de techos vs carga calentamiento y enfriamiento\")\n",
    "# plt.ylabel(\"Carga\")\n",
    "# plt.ylim((0,30))\n",
    "# plt.xlabel(\"Proporción área de vidriado\")\n",
    "# plt.legend()\n",
    "# plt.show()"
   ]
  },
  {
   "cell_type": "markdown",
   "id": "daf6a673",
   "metadata": {},
   "source": [
    "¿Qué conclusiones puede sacar del gráfico anterior acerca de la cantidad de carga de calor y de enfriamiento que se necesita en cada hogar respecto del área total de los techos?"
   ]
  },
  {
   "cell_type": "markdown",
   "id": "7dc5ae3f",
   "metadata": {},
   "source": [
    "##### E) Comparando orientación de paredes contra carga de calentamiento y carga de enfriamiento\n",
    "\n",
    "- E1) ¿Cuantas casas hay por cada una de las orientaciones (columna *orientación*)?\n",
    "- E2) Utilice *plt.hist()* de la librería *matplotlip.pyplot* para graficar el histograma de la columna *Orientación de ventanas*.\n",
    "- E3) Genere un array formado por las columnas de *Orientación de ventanas*, la de *Carga para calentamiento* y la de *Carga para enfriamiento*."
   ]
  },
  {
   "cell_type": "code",
   "execution_count": 8,
   "id": "2875a0a4",
   "metadata": {},
   "outputs": [],
   "source": [
    "## TODO de E1 a E3"
   ]
  },
  {
   "cell_type": "markdown",
   "id": "c7cdaf5e",
   "metadata": {},
   "source": [
    "- E4) A partir de la matriz generada en E#) encuentre el valor medio de la carga total de calentamiento y la de enfriamiento para cada valor de *Orientación de ventanas*, guarde estos arrays en los arrays promediosCalentamiento y promediosEnfiramiento, respectivamente."
   ]
  },
  {
   "cell_type": "code",
   "execution_count": 9,
   "id": "cd923097",
   "metadata": {},
   "outputs": [],
   "source": [
    "### TODO D5\n",
    "orientaciones = [2,3,4,5] #norte, sur, este, oeste.\n",
    "promediosCalentamiento = ___\n",
    "promediosEnfiramiento = ___\n",
    "\n",
    "# ## Descomentar para graficar\n",
    "# plt.plot(orientaciones, promediosCalentamiento, marker=\"P\", label = \"Calentamiento\")\n",
    "# plt.plot(orientaciones, promediosEnfiramiento, marker=\"^\", label = \"Enfriamiento\")\n",
    "# plt.title(\"Orientaciones de ventana vs carga calentamiento y enfriamiento\")\n",
    "# plt.ylabel(\"Carga\")\n",
    "# plt.ylim((0,30))\n",
    "# plt.xlabel(\"Orientaciones\")\n",
    "# plt.legend()\n",
    "# plt.show()"
   ]
  },
  {
   "cell_type": "markdown",
   "id": "796d2cff",
   "metadata": {},
   "source": [
    "<hr style=\"border:1px solid black\"> </hr>\n",
    "\n",
    "## Final Jupyter"
   ]
  }
 ],
 "metadata": {
  "kernelspec": {
   "display_name": "Python [conda env:Maxi1] *",
   "language": "python",
   "name": "conda-env-Maxi1-py"
  },
  "language_info": {
   "codemirror_mode": {
    "name": "ipython",
    "version": 3
   },
   "file_extension": ".py",
   "mimetype": "text/x-python",
   "name": "python",
   "nbconvert_exporter": "python",
   "pygments_lexer": "ipython3",
   "version": "3.9.7"
  }
 },
 "nbformat": 4,
 "nbformat_minor": 5
}
