{
 "cells": [
  {
   "cell_type": "markdown",
   "id": "6c5bce21",
   "metadata": {},
   "source": [
    "# <center> <span style='color:#3A40A2 '>Ejercitación Módulo 2 - 3ra parte</span></center>\n",
    "<hr style=\"border:1px solid gray\"> </hr>\n",
    "\n",
    "La siguiente notebook contiene ejercitación del Módulo 2 de la Unidad Curricular ***\"Programación Digital Avanzada\"*** de la carrera de *Ingeniería Biomédica* de la UTEC.\n",
    "\n",
    "La *primera parte* y la *segunda parte* de esta notebook serán utilizadas para ejercitación. Por otro lado, la *tercera parte* será utilizada para el laboratorio del módulo y **se debe entregar** resuelta en una Jupyter Notebbok (puede ser esta misma). Además debe subirse la resolución a su repositorio de PDA en github.\n",
    "\n",
    "Profesor Adjunto: *Mag. Bioing. Baldezzari Lucas*\n",
    "\n",
    "<p style='text-align: right;'> V2022 </p>"
   ]
  },
  {
   "cell_type": "markdown",
   "id": "17315869",
   "metadata": {},
   "source": [
    "<hr style=\"border:1px solid gray\"> </hr>\n",
    "\n",
    "## <span style='color:#3A40A2 '> Tercera parte </span>\n",
    "\n",
    "Esta parte corresponde a ejercicios obligatorios que deben ser entregados.\n",
    "\n",
    "Se trabajará sobre estos problemas en la clase de Laboratorio."
   ]
  },
  {
   "cell_type": "markdown",
   "id": "0de98cfc",
   "metadata": {},
   "source": [
    "##### Ejercicio 3.1\n",
    "\n",
    "Implemente una función que reciba como parámetro una muestra de números (enteros o flotantes) y retorne una lista con los valores *outliers* o *atípicos*. En caso de que no existan valores atípicos, la función debe retornar None.\n",
    "\n",
    "Los outliers se calculan de la siguiente manera.\n",
    "\n",
    "$$ outlier < Q_1 - 1.5RIC \\vee outlier > Q_3 + 1.5RIC $$\n",
    "\n",
    "Donde $RIC$ representa el *Rango Intercuartil* y esta dado por $RIC = Q_3 - Q_1$.\n",
    "\n",
    "El índice del elemento del cuartil $k$ puede calcularse como,\n",
    "\n",
    "$$ Índice(Q_k) = \\frac{k(longitudDatos+1)}{4}  $$"
   ]
  },
  {
   "cell_type": "code",
   "execution_count": 28,
   "id": "1c4821ce",
   "metadata": {},
   "outputs": [
    {
     "name": "stdout",
     "output_type": "stream",
     "text": [
      "Los valores atipicos son:  [9999, 1000000]\n"
     ]
    }
   ],
   "source": [
    "### Resolución ejercicio 3.1\n",
    "\n",
    "import numpy as np  #importo numpy\n",
    "import seaborn as sns #importo seaborn\n",
    "\n",
    "lista = [5, 10, 20, 5, 12.2, 12, 9999, 13, 14, 29, 39, 6, 1.2, 33.2, 12.3, 1000000] \n",
    "\n",
    "def outliers (lista):\n",
    "    sort_lista = np.sort(lista) #ordeno la lista\n",
    "    sort_lista \n",
    "    Q1 = np.percentile(lista, 25)    #calculo los cuertiles 1 y 3 que me van a servir par calcular el rango\n",
    "    Q3 = np.percentile(lista, 75)   \n",
    "\n",
    "    RIC = Q3 - Q1  # Se calcula el rango intercuartil para calcular los limites\n",
    "    \n",
    "    low_lim = Q1 - 1.5 * RIC #Limite inferior\n",
    "    up_lim = Q3 + 1.5 * RIC #limite superior\n",
    "\n",
    "    outlier =[] \n",
    "    for i in lista: \n",
    "        if ((i> up_lim) or (i< low_lim)):    #Recorro la lista y separo los numeros atipicos\n",
    "             outlier.append(i)               #Agrego los numeros atipicos a una lista para despues mostrarlos\n",
    "    \n",
    "    if outlier==[]:\n",
    "        print (\"None\") #En caso de que no existan valores atípicos, la función retorna \"None\".\n",
    "    else:\n",
    "        print('Los valores atipicos son: ', outlier)\n",
    "\n",
    "outliers(lista)"
   ]
  },
  {
   "cell_type": "markdown",
   "id": "37c8b395",
   "metadata": {},
   "source": [
    "##### Ejercicio 3.2\n",
    "\n",
    "La función *[sum()](https://docs.python.org/3/library/functions.html#sum)* de Python permite sumar una secuencia de números.\n",
    "\n",
    "Su implementación es,\n",
    "\n",
    "```Python\n",
    "sum(iterable, start)\n",
    "```\n",
    "\n",
    "Como se ve, solo recibe dos parámetros. Si hacemos, \n",
    "\n",
    "```Python\n",
    "sum([1,2,3]) #obtenemos 6 de resultado.\n",
    "```\n",
    "\n",
    "Pero si quisieramos hacer *sum(1,2,3,4)* obtendríamos un error.\n",
    "\n",
    "Se pide que implemente una función suma de tal manera que pueda recibir cualquier cantidad de parámetros (1,2,...,n) y retorne la suma de los mismos. Los parámetros solo pueden ser números enteros o flotantes separados por coma."
   ]
  },
  {
   "cell_type": "code",
   "execution_count": 1,
   "id": "4b721a6d",
   "metadata": {},
   "outputs": [
    {
     "name": "stdout",
     "output_type": "stream",
     "text": [
      "Ingrese sus numeros prara la lista e ingrese 0 para finalizar: 2\n",
      "Ingrese sus numeros prara la lista e ingrese 0 para finalizar: 1\n",
      "Ingrese sus numeros prara la lista e ingrese 0 para finalizar: 23\n",
      "Ingrese sus numeros prara la lista e ingrese 0 para finalizar: 0\n"
     ]
    },
    {
     "data": {
      "text/plain": [
       "26.0"
      ]
     },
     "execution_count": 1,
     "metadata": {},
     "output_type": "execute_result"
    }
   ],
   "source": [
    "### Resolución ejercicio 3.2 \n",
    "\n",
    "lista=[] #creo la lista donde se guardaran los numeros ingresados por el usuario\n",
    "\n",
    "condicion=True\n",
    "while condicion:\n",
    "    numeros=float(input(\"Ingrese sus numeros prara la lista e ingrese 0 para finalizar: \"))\n",
    "    if numeros!=0 :\n",
    "        lista.append(numeros)  #se agregan los numeros ingresados a la lista para poder sumarlos \n",
    "    else:\n",
    "        condicion=False\n",
    "        \n",
    "def sumar(lista):\n",
    "    suma = 0\n",
    "    for numero in lista:\n",
    "         suma += numero #se recorre la lista y se va sumando cada numero \n",
    "    return suma\n",
    "\n",
    "sumar(lista)"
   ]
  },
  {
   "cell_type": "markdown",
   "id": "b6b9f121",
   "metadata": {},
   "source": [
    "##### Ejercicio 3.3\n",
    "\n",
    "Implemente una función que devuelva el índice de masa corporal. La función recibe como parámetros una lista con las alturas en $cm$ y una lista con los pesos en $kg$ de una cierta cantidad de personas.\n",
    "\n",
    "Implemente la solución utilizando comprensión de listas e/o intente dar una solución usando funciones lambdas con la función map() de Python."
   ]
  },
  {
   "cell_type": "code",
   "execution_count": 35,
   "id": "5d6702f8",
   "metadata": {},
   "outputs": [
    {
     "data": {
      "text/plain": [
       "[23.875114784205696,\n",
       " 25.88057063502083,\n",
       " 14.141057044014039,\n",
       " 33.20854969206617,\n",
       " 32.038578411943455]"
      ]
     },
     "execution_count": 35,
     "metadata": {},
     "output_type": "execute_result"
    }
   ],
   "source": [
    "### Resolución ejercicio 3.3\n",
    "pesos = [65, 82, 56, 110, 97] #Pesos en kg \n",
    "alturas = [165, 178, 199, 182, 174] #alturas en cm\n",
    "alturas_metros = [altura/100 for altura in alturas] #alturas en metros\n",
    "\n",
    "def indice1(pesos, alturas_metros):\n",
    "    imc = [pesos/alturas_metros**2 for pesos, alturas_metros in zip(pesos, alturas_metros)] \n",
    "    #Con zip puedo iterar sobre dos o mas listas de igual longitud\n",
    "    return (imc) #aqui se calcula el indice de masa corporal de diferentes personas utilizando comprension de listas\n",
    "\n",
    "def indice2(pesos, alturas_metros):\n",
    "    imc_map=list(map(lambda x,y : x/(y**2), pesos, alturas_metros)) \n",
    "    #La funcion map se utiliza junto a expresiones lambda ya que permite ahrrarnos el esfuerzo de crear bucles for, \n",
    "    #ademas se puede utilizar sobre mas de un iterable de la misma longitud.\n",
    "    return (imc_map) #aqui se calcula el indice de masa corporal de diferentes personas utilizando la funcion map\n",
    "\n",
    "indice2(pesos, alturas_metros)"
   ]
  },
  {
   "cell_type": "markdown",
   "id": "5862b855",
   "metadata": {},
   "source": [
    "##### Ejercicio 3.4\n",
    "\n",
    "Implemente una función llamada *mathOperations* que reciba como parámetros,\n",
    "- Un string con la operación a realizar, \"sumar\" para sumar, \"restar\" para restar, \"dividir\" para dividir y \"multiplicar\" para multiplicar.\n",
    "- Y dos variables numéricas que se usarán para realizar la operación matemática seleccionada.\n",
    "\n",
    "La función debe devolver un resultado dependiendo de la operación seleccionada.\n",
    "\n",
    "La implementación de la función debe contener anotaciones y documentación apropiada."
   ]
  },
  {
   "cell_type": "code",
   "execution_count": 38,
   "id": "6d787c0d",
   "metadata": {},
   "outputs": [
    {
     "name": "stdout",
     "output_type": "stream",
     "text": [
      "Ingrese la operación que desea realizar(sumar, restar, dividir o multiplicar: multiplicar\n",
      "Ingrese el primer valor: 2\n",
      "Ingrese el segundo valor: 2\n",
      "El resultado de la multiplicación es:  4.0\n"
     ]
    }
   ],
   "source": [
    "### Resolución ejercicio 3.4\n",
    "\n",
    "operacion=input(\"Ingrese la operación que desea realizar (sumar, restar, dividir, multiplicar: \") \n",
    "#aqui se le pregunta al usuario que operacion matematica va a realizar\n",
    "\n",
    "PrimerValor=float(input(\"Ingrese el primer valor: \"))  #aqui se le preguntan al usuario las variables que van a utilizar\n",
    "SegundoValor=float(input(\"Ingrese el segundo valor: \"))\n",
    "\n",
    "def mathOperations(operacion,PrimerValor,SegundoValor):\n",
    "    if operacion==\"sumar\":\n",
    "        resultado=PrimerValor+SegundoValor\n",
    "        print(\"El resultado de la suma es: \", resultado)\n",
    "    elif operacion==\"restar\":\n",
    "        resultado=PrimerValor-SegundoValor\n",
    "        print(\"El resultado de la resta es: \", resultado)\n",
    "    elif operacion==\"dividir\":\n",
    "        resultado=PrimerValor//SegundoValor\n",
    "        print(\"El resultado de la division es: \", resultado)\n",
    "    elif operacion==\"multiplicar\":\n",
    "        resultado=PrimerValor*SegundoValor\n",
    "        print(\"El resultado de la multiplicación es: \", resultado)\n",
    "        \n",
    "## Se realizan condiciones dependiendo de la operacion que se ingrese y \n",
    "## utilizando las variables se muestra el resultado de cada operacion.\n",
    "\n",
    "mathOperations(operacion,PrimerValor,SegundoValor)"
   ]
  },
  {
   "cell_type": "markdown",
   "id": "afd03914",
   "metadata": {},
   "source": [
    "# Ejercicio 3.5\n",
    "\n",
    "El número $\\pi$ puede aproximarse con la siguiente fórmula de aproximación,\n",
    "\n",
    "\\begin{equation*}\n",
    "\\pi = 3+ 4\\times{\\sum _ { n = 2,4,6...; k=0,1,2.. } ^ { N,K } (-1)^k \\left[ \\frac {1}{n (n+1) (n+2)} \\right]}\n",
    "\\end{equation*}\n",
    "\n",
    "Implemente una función que reciba como argumento la cantidad de aproximaciones *$N$* a realizar y retorne el valor de la aproximación.\n",
    "\n",
    "La implementación de la función debe contener anotaciones y documentación apropiada.\n",
    "\n",
    "NOTA: El valor de $k$ sirve para alternar el signo del término $(-1)^k$."
   ]
  },
  {
   "cell_type": "code",
   "execution_count": 46,
   "id": "8b80fb8c",
   "metadata": {},
   "outputs": [
    {
     "name": "stdout",
     "output_type": "stream",
     "text": [
      "ingrese la cantidad de aproximaciones N:999\n",
      "El valor aproximado de pi con 999 aproximaciones es:  3.14059265383979\n"
     ]
    }
   ],
   "source": [
    "## Resolución Ejercicio 3.5\n",
    "n = int(input(\"ingrese la cantidad de aproximaciones N:\")) #le pido al usuario la cantidad de aproximaciones\n",
    "def aprox(n):\n",
    "    total = 0\n",
    "    for i in range(0,n,2):\n",
    "        total += ((1.0/(i+i+1))-(1.0)/(i+i+3))\n",
    "    valor = 4*total\n",
    "    #aqui se realizan las operaciones para llegar al valor de pi con un bucle for y luego una multiplicacion\n",
    "    print(\"El valor aproximado de pi con\", n, \"aproximaciones es de: \", valor)\n",
    "\n",
    "aprox(n)"
   ]
  },
  {
   "cell_type": "markdown",
   "id": "99326d18",
   "metadata": {},
   "source": [
    "##### Ejercicio 3.6\n",
    "\n",
    "En criptografía, el cifrado César, también conocido como cifrado por desplazamiento, código de César o desplazamiento de César, es una de las técnicas de cifrado más simples conocidas. Es un tipo de cifrado por sustitución en el que una letra en el texto original es reemplazada por otra letra que se encuentra un número fijo de posiciones más adelante en el alfabeto. Por ejemplo, con un desplazamiento de 3, la A sería sustituida por la D (situada 3 lugares a la derecha de la A), la B sería reemplazada por la E, etc. Este método debe su nombre a Julio César, que lo usaba para comunicarse con sus generales. Fuente [Wikipedia](https://es.wikipedia.org/wiki/Cifrado_C%C3%A9sar).\n",
    "\n",
    "Debe implementar,\n",
    "- Una función que se llame *codificar()* que reciba un mensaje y la cantidad de desplazamientos a realizar (la función debe tener este parametro con un valor por defecto para el caso de que el usuario no otorge un valor). La función debe retornar un mensaje encriptado.\n",
    "- Una función que se llame *decodificar* que reciba como argumento la cantidad de desplazamientos a realizar (la función debe tener este parametro con un valor por defecto para el caso de que el usuario no otorge un valor). La función debe retornar un mensaje desencriptado.\n",
    "\n",
    "La implementación de la función debe contener anotaciones y documentación apropiada."
   ]
  },
  {
   "cell_type": "code",
   "execution_count": 66,
   "id": "b81b07f0",
   "metadata": {},
   "outputs": [
    {
     "name": "stdout",
     "output_type": "stream",
     "text": [
      "ingrese el mensaje codificado: ñczk\n",
      "ingrese la cantidad de desplazamientos a realizar: 2\n",
      "Su mensaje decodificado es:  maxi\n"
     ]
    }
   ],
   "source": [
    "## Resolución Ejercicio 3.6\n",
    "\n",
    "def codificar ():\n",
    "    mensaje=str(input(\"ingrese el mensaje a codificar: \"))\n",
    "    desplazamientos=int(input(\"ingrese la cantidad de desplazamientos a realizar: \"))\n",
    "    abc=\"abcdefghijklmnñopqrstuvwxyz\"\n",
    "    desplazado=\"\"\n",
    "    for i in mensaje:\n",
    "        if i in abc:\n",
    "            desplazado += abc[(abc.index(i)+desplazamientos)%(len(abc))] \n",
    "        elif desplazamientos==():\n",
    "            desplazado+= abc[(abc.index(i)+2)%(len(abc))]\n",
    "    print (\"Su mensaje encriptado es: \",desplazado)\n",
    "\n",
    "##La funcion codificar le pide al usuario un mensaje y la cantidad de desplazamientos para retornar un mensaje encriptado\n",
    "##esto se realiza gracias a el metodo index que devuelve el indice de cada elemento en el abecedario que se va recorriendo\n",
    "##con el bucle for y le sumo la cantidad ingresada en la variable desplazamientos\n",
    "\n",
    "def decodificar ():\n",
    "    mensajecodificado=str(input(\"ingrese el mensaje codificado: \"))\n",
    "    desplazamientos2=int(input(\"ingrese la cantidad de desplazamientos a realizar: \"))\n",
    "    abc=\"abcdefghijklmnñopqrstuvwxyz\"\n",
    "    desplazado=\"\"\n",
    "    for i in mensajecodificado:\n",
    "        if i in abc:\n",
    "            desplazado += abc[(abc.index(i)-desplazamientos2)%(len(abc))] \n",
    "        elif desplazamientos==():\n",
    "            desplazado+= abc[(abc.index(i)-2)%(len(abc))]\n",
    "    print (\"Su mensaje decodificado es: \", desplazado)\n",
    "##La funcion decodificar hace lo mismo que la anterior fucnion pero restandole la candtidad de desplazamientos que se ingresaron\n",
    "decodificar()"
   ]
  },
  {
   "cell_type": "markdown",
   "id": "a2b06185",
   "metadata": {},
   "source": [
    "##### Ejercicio 3.7\n",
    "\n",
    "Una ruleta posee una rueda con 38 espacios. De estos espacios, 18 son negros, 18 son rojos y dos son verdes. Los espacios verdes están numerados cómo 0 y 00 (por simplicidad tomar sólo 0 como posible apuesta).\n",
    "\n",
    "Los espacios rojos en la ruleta están numerados 1, 3, 5, 7, 9, 12, 14, 16, 18, 19, 21, 23, 25, 27, 30 32, 34 y 36. El resto de los números son de color negro.\n",
    "\n",
    "Es posible realizar muchas apuestas en un juego de ruleta convencional, no obstante, para este ejercicio considere las siguientes:\n",
    "\n",
    "- Números simples (1 a 36, y 0)\n",
    "- Negras vs Rojas\n",
    "- Pares vs Impares (el 0 no debe considerarse dentro de esta apuesta)\n",
    "- 1 a 18 vs 19 a 36.\n",
    "\n",
    "Implemente una función que reciba como argumento una apuesta (número entero) entre 0 y 36. La función debe generar un número entero aleatorio (use las funciones de la librería *random*) y devolver un mensaje donde se informe que apuestas deben pagarse al jugador, por ejemplo,\n",
    "\n",
    "```Python\n",
    "print(juegoRuleta(apuesta = 14))\n",
    "```\n",
    "\n",
    "Si el número aleatorio generado es el 14, el mensaje retornado debería ser similar a:\n",
    "\n",
    "- Pagar al 14\n",
    "- Pagar rojas\n",
    "- Pagar pares\n",
    "- Pagar 1 a 18\n",
    "\n",
    "Si el número aleatorio generado es el 23, el mensaje retornado debería ser similar a:\n",
    "\n",
    "- Pagar rojas\n",
    "\n",
    "\n",
    "La implementación de la función debe contener anotaciones y documentación apropiada."
   ]
  },
  {
   "cell_type": "code",
   "execution_count": 74,
   "id": "31709ffa",
   "metadata": {},
   "outputs": [
    {
     "name": "stdout",
     "output_type": "stream",
     "text": [
      "Introduzca su numero para apostar en la ruleta: 11\n",
      "Gira la ruleta... \n",
      "Cae en:  27\n",
      "Pagar 19 a 36\n",
      "Pagar al negro\n",
      "Pagar impares\n"
     ]
    }
   ],
   "source": [
    "## Resolución Ejercicio 3.7\n",
    "import random\n",
    "\n",
    "jugada = int(input('Introduzca su numero para apostar en la ruleta: ')) ## le pido al usuario el numero con el cua va a \n",
    "                                                                        ##jugar a la ruleta\n",
    "\n",
    "def ruleta(jugada):\n",
    "    numeroaleatorio = random.randint(0,36) #aqui se genera un numero aleatorio gracias al modulo random\n",
    "    print('Gira la ruleta... \\nCae en: ',numeroaleatorio) \n",
    "    if jugada == numeroaleatorio:\n",
    "        print(\"Ganaste!! \\nPagar al: \",numeroaleatorio) #la primera condicion compara el numero que ingraso el usuario \n",
    "                                                        #y el numero generado aleatoriamente\n",
    "    elif (numeroaleatorio>=1 and numeroaleatorio<=18): #aqui se compara para ver si el numero generado salio de la mitad de \n",
    "                                                        #la tabla hacia abajo\n",
    "            print('Pagar 1 a 18')\n",
    "            if numeroaleatorio%2==0: #aqui se calcula para ver si el numero es par o impar y de ahi sacar a quien se le paga\n",
    "                print('Pagar al rojo\\nPagar pares')\n",
    "            else:\n",
    "                print('Pagar al negro\\nPagar impares')\n",
    "    elif (numeroaleatorio>=19 and numeroaleatorio<=36):#aqui se compara para ver si el numero generado salio de \n",
    "                                                        #la mitad de la tabla hacia arriba\n",
    "            print('Pagar 19 a 36')\n",
    "            if numeroaleatorio%2==0:\n",
    "                print('Pagar al rojo\\nPagar pares')\n",
    "            else:\n",
    "                print('Pagar al negro\\nPagar impares')\n",
    "\n",
    "#con esta funcion podemos emular una jugada de la ruleta y apostar todo el sueldo!\n",
    "ruleta(jugada)"
   ]
  },
  {
   "cell_type": "markdown",
   "id": "16681842",
   "metadata": {},
   "source": [
    "##### Ejercicio 3.8\n",
    "\n",
    "1. Implemente una función que reciba como parámetro una lista de palabras y devuelva una lista de las posibles combinaciones de a dos. La lista retornada debe contener las tuplas correspondientes a la combinación de dos palabras. Por ejemplo, si la lista es,\n",
    "\n",
    "```Python\n",
    "palabras = [\"ing\", \"bio\", \"bci\"]\n",
    "```\n",
    "\n",
    "La función debe retornar algo similar a:\n",
    "\n",
    "```Python\n",
    ">> [(\"ing\",\"bio\"), (\"ing\",\"bci\"), (\"bio\",\"bci\")]\n",
    "```\n",
    "\n",
    "Recuerde que en combinación **no** importa el orden.\n",
    "\n",
    "2. Luego intente implementar lo mismo utilizando *list comprehension* y utilizando la función *[combinations](https://docs.python.org/3/library/itertools.html#itertools.combinations)* de la librería *[itertools](https://docs.python.org/3/library/itertools.html)*. Para usar esta herramienta debe importar la librería o bien el método, haciendo,\n",
    "\n",
    "```Python\n",
    "from itertools import combinations\n",
    "```\n",
    "\n",
    "La implementación de la función debe contener anotaciones y documentación apropiada."
   ]
  },
  {
   "cell_type": "code",
   "execution_count": 76,
   "id": "a3e03a70",
   "metadata": {},
   "outputs": [
    {
     "data": {
      "text/plain": [
       "[('rojo', 'verde'), ('rojo', 'azul'), ('verde', 'azul')]"
      ]
     },
     "execution_count": 76,
     "metadata": {},
     "output_type": "execute_result"
    }
   ],
   "source": [
    "## Resolución Ejercicio 3.8\n",
    "\n",
    "from itertools import combinations\n",
    "\n",
    "palabras = [\"rojo\", \"verde\", \"azul\"]\n",
    "\n",
    "def combinaciones(palabras):\n",
    "    palabras = [i for i in list(combinations(palabras,2))]\n",
    "    return (palabras)\n",
    "    ## se utiliza el módulo itertools.combinations() para imprimir todas las combinaciones posibles \n",
    "\n",
    "combinaciones(palabras)"
   ]
  },
  {
   "cell_type": "markdown",
   "id": "977d6306",
   "metadata": {},
   "source": [
    "##### Ejercicio 3.9\n",
    "\n",
    "Implemente una función que reciba una lista de elementos enteros, o flotantes, o strings (podría ser una lista con elementos del mismo tipo o bien una mezcla de estos) y retorne una lista con los elementos sin repetir.\n",
    "\n",
    "Como ejemplo, si la lista es *[1,2,3,4,5,5,6,7,7,1,2,8,9,9]* la función debe retornar *[1,2,3,4,5,6,7,8]*.\n",
    "\n",
    "La implementación de la función debe contener anotaciones y documentación apropiada."
   ]
  },
  {
   "cell_type": "code",
   "execution_count": null,
   "id": "4146a667",
   "metadata": {},
   "outputs": [],
   "source": []
  },
  {
   "cell_type": "code",
   "execution_count": 77,
   "id": "0b81da02",
   "metadata": {},
   "outputs": [
    {
     "data": {
      "text/plain": [
       "[1, 2, 3, 4, 5, 6, 7, 8, 9, 'azul', 'rojo', 'verde', 10, 11, 12]"
      ]
     },
     "execution_count": 77,
     "metadata": {},
     "output_type": "execute_result"
    }
   ],
   "source": [
    "## Resolución Ejercicio 3.9\n",
    "lista=[1,2,3,4,5,5,6,7,7,1,2,8,9,9,'azul','rojo','verde','verde','rojo','verde','azul','verde','rojo','rojo', 10, 11, 12]\n",
    "\n",
    "def repetidos(lista):\n",
    "      return list(dict.fromkeys(lista))\n",
    "##Creo un diccionario, utilizando los elementos de la lista como claves. Esto eliminará automáticamente cualquier \n",
    "##duplicado porque los diccionarios no pueden tener claves duplicadas.\n",
    "repetidos(lista)"
   ]
  },
  {
   "cell_type": "markdown",
   "id": "91030ed9",
   "metadata": {},
   "source": [
    "##### Ejercicio 3.10\n",
    "\n",
    "Implemente una función que retorne un diccionario con los datos de un equipo médico. La función debe tener como parámetros fijos un nombre genérico del equipo y el área donde se encuentra, además de ser necesario, se le pasarán a la función una mayor cantidad de datos referentes al equipo. A modo de ejemplo el pasaje de argumentos puede ser,\n",
    "\n",
    "```Python\n",
    "equipo1 = datosEquipo(equipo = \"Respirador\", area = \"Neonatología\")\n",
    "\n",
    "equipo2 = datosEquipo(equipo = \"Respirador\", area = \"UCI\",\n",
    "                      coment = \"Alarma de presión de O2 no se apaga\",\n",
    "                      responsable = \"deja el equipo Mengano\")\n",
    "\n",
    "equipo3 = datosEquipo(equipo = \"Bomba infusión\", area = \"uti\",\n",
    "                      comentario = \"Necesitamos el equipo urgente\",\n",
    "                      falla = \"equipo no enciende o se apaga luego de algunas horas de uso\",\n",
    "                      personaResponsable = \"Dra. Sierra\",\n",
    "                      infoAdicional = \"No había nadie en biomédica\")\n",
    "```\n",
    "\n",
    "La implementación de la función debe contener anotaciones y documentación apropiada."
   ]
  },
  {
   "cell_type": "code",
   "execution_count": 86,
   "id": "09b8ae56",
   "metadata": {},
   "outputs": [],
   "source": [
    "## Resolución Ejercicio 3.10\n"
   ]
  },
  {
   "cell_type": "markdown",
   "id": "36015ec2",
   "metadata": {},
   "source": [
    "##### Ejercicio 3.11\n",
    "\n",
    "Implemente una función que calcule la raíz cuadrada de un número entero utilizando el método de aproximaciones de Newton, el cual es,\n",
    "\n",
    "\\begin{equation*}\n",
    "\\sqrt a = \\frac{x + \\frac{a}{x}}{2}\n",
    "\\end{equation*}\n",
    "\n",
    "Donde, \n",
    "\n",
    "- *x* es una *estimación* o *aproximación* conocida de la raíz cuadrada. En general puede asumirse *x = 1* o *x = a*.\n",
    "\n",
    "La función a implementar debe recibir,\n",
    "\n",
    "- Un número entero *a* para estimar su raíz cuadrada.\n",
    "- Un número entero *n* que representa la cantidad de iteraciones a realizar para aproximar la raíz de *a*. Por defecto hacer n = 10.\n",
    "\n",
    "La función debe retornar\n",
    "\n",
    "- Una lista con cada uno de los cálculos realizados en cada iteración\n",
    "- El valor calculado de la última iteración.\n",
    "- El valor de la raiz cuadrada de *a* utilizando el método *sqrt* de la librería *math* (para comparación).\n",
    "\n",
    "La implementación de la función debe contener anotaciones y documentación apropiada."
   ]
  },
  {
   "cell_type": "code",
   "execution_count": 11,
   "id": "fc28012e",
   "metadata": {},
   "outputs": [],
   "source": [
    "## Resolución Ejercicio 3.11\n",
    "##TO DO"
   ]
  },
  {
   "cell_type": "markdown",
   "id": "37d063be",
   "metadata": {},
   "source": [
    "##### Ejercicio 3.12\n",
    "\n",
    "Implemente una función que reciba como parámetros un número *n* de diccionarios. Asuma que los diccionarios pasados como parámetros poseen un *key* y elementos numéricos (enteros o flotantes).\n",
    "\n",
    "La función debe retornar un diccionario nuevo con la suma de los elementos correspondientes a los keys iguales.\n",
    "\n",
    "Por ejemplo,\n",
    "\n",
    "```Python\n",
    "dic1 = {'key1': 10, 'key2': 20, 'key3':30}\n",
    "dic2 = {'key1': 30, 'key3': 20, 'key4':40}\n",
    "\n",
    "dic3 = miFunc(d1,d2)\n",
    "print(dic3)\n",
    "# El dic3 debe ser de la forma {'key1': 40, 'key2': 20, 'key3': 50, 'key4': 40}\n",
    "```"
   ]
  },
  {
   "cell_type": "code",
   "execution_count": 88,
   "id": "267a611e",
   "metadata": {},
   "outputs": [
    {
     "data": {
      "text/plain": [
       "{'key1': 40, 'key2': 20, 'key3': 50, 'key4': 40}"
      ]
     },
     "execution_count": 88,
     "metadata": {},
     "output_type": "execute_result"
    }
   ],
   "source": [
    "## Resolución Ejercicio 3.12\n",
    "\n",
    "from collections import Counter ## counter es para contar objetos\n",
    "\n",
    "dic1 = {'key1': 10, 'key2': 20, 'key3':30}\n",
    "dic2 = {'key1': 30, 'key3': 20, 'key4':40}\n",
    "\n",
    "def dic(*diccionarios):\n",
    "    dic3={}\n",
    "    for n in range(0,len(diccionarios)):\n",
    "        dic3=(dict(Counter(diccionarios[n-1])+Counter(diccionarios[n]))) \n",
    "        #aqui calculo el diccionario nuevo que es la suma \n",
    "        #de los elementos correspondientes a las keys iguales de dic1 y dic2\n",
    "    return dic3    \n",
    "\n",
    "dic(dic1,dic2)"
   ]
  },
  {
   "cell_type": "markdown",
   "id": "c953298e",
   "metadata": {},
   "source": [
    "##### Ejercicio 3.13\n",
    "\n",
    "Implemente una función que reciba como parámetro el nombre de un archivo de texto *.txt* y retorne un diccionario en donde los *keys* estarán formados por cada palabra dentro del archivo y los *elementos* serán las veces que la palabra en cuestión se repite dentro del texto.\n",
    "\n",
    "Considere lo siguiente.\n",
    "\n",
    "- Descartar símbolos y caracteres. Asuma que el texto solo puede contener los siguientes caracteres y símbolos:\n",
    " - _ (guión bajo), - (guión medio).\n",
    " - , (coma) y . (punto).\n",
    " - ¿, ?, ¡, ! (signos de interrogación y exlamación).\n",
    "- Todas las palabras retornadas en el diccionario deben estar en minúsculas.\n",
    "\n",
    "Ejemplo\n",
    "\n",
    "```Python\n",
    "## supogamos que el archivo texto.txt contiene lo siguiente\n",
    "## \"Hola mundo. Hola mundo!!!\"\n",
    "\n",
    "diccionario = makeDict(\"texto.txt\")\n",
    "#El diccionario retornado debe ser similar a {\"hola\": 2, \"mundo\": 2}\n",
    "```\n",
    "\n",
    "NOTA: Utilice la función [*open()*](https://docs.python.org/3/library/functions.html#open) para cargar el archivo.\n",
    "\n",
    "La implementación de la función debe contener anotaciones y documentación apropiada."
   ]
  },
  {
   "cell_type": "code",
   "execution_count": 13,
   "id": "c87340e9",
   "metadata": {},
   "outputs": [],
   "source": [
    "## Resolución Ejercicio 3.13\n",
    "##TO DO"
   ]
  },
  {
   "cell_type": "markdown",
   "id": "c552bc2a",
   "metadata": {},
   "source": [
    "<hr style=\"border:1px solid gray\"> </hr>\n",
    "\n",
    "##  <span style='color:#3A40A2 '>FIN</span>"
   ]
  }
 ],
 "metadata": {
  "interpreter": {
   "hash": "341b29a86feb41683388a2350ede9b29bff08e5e019b1f08826cb582c6a8c162"
  },
  "kernelspec": {
   "display_name": "Python [conda env:Maxi1] *",
   "language": "python",
   "name": "conda-env-Maxi1-py"
  },
  "language_info": {
   "codemirror_mode": {
    "name": "ipython",
    "version": 3
   },
   "file_extension": ".py",
   "mimetype": "text/x-python",
   "name": "python",
   "nbconvert_exporter": "python",
   "pygments_lexer": "ipython3",
   "version": "3.9.7"
  }
 },
 "nbformat": 4,
 "nbformat_minor": 5
}
