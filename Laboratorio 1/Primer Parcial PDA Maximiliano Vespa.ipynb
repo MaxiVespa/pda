{
 "cells": [
  {
   "cell_type": "code",
   "execution_count": 66,
   "id": "796f23ce",
   "metadata": {},
   "outputs": [
    {
     "name": "stdout",
     "output_type": "stream",
     "text": [
      "['Lucas', 35]\n",
      "['Morfeo', 45]\n",
      "['Maxi', 22]\n",
      "['LNS', 100]\n"
     ]
    }
   ],
   "source": [
    "#Ejercicio 3: Mayores y menores\n",
    "\n",
    "nombres=[\"Lucas\", \"Morfeo\", \"Maxi\", \"LNS\"]\n",
    "edades=[35,45,22,100]\n",
    "\n",
    "def MayorMenor(nombres, edades):\n",
    "    \"\"\"esta funcion devuelve una tupla con una lista que contiene los nombres de las personas de menor edad y otra lista\n",
    "    que contiene los nombres de las personas de mayor edad\"\"\"\n",
    "    #mayor=edades[0]\n",
    "    for i in range (0, len(nombres)):\n",
    "        listanueva=(nombres[i], edades[i])\n",
    "        print(list(listanueva))\n",
    "        \n",
    "#       if edades[i]>mayor:\n",
    "#            mayor=edades[i]\n",
    "#            return ([nombres[i]])\n",
    "\n",
    "#No pude implementar la solucion ya que no compara las listas.\n",
    "\n",
    "MayorMenor(nombres,edades)"
   ]
  },
  {
   "cell_type": "code",
   "execution_count": 52,
   "id": "04fa0b99",
   "metadata": {},
   "outputs": [
    {
     "name": "stdout",
     "output_type": "stream",
     "text": [
      "[0, 1, 1, 1, 1, 1, 1, 0, 1, 0, 1, 1, 1, 1, 1, 1, 1, 0, 1, 1, 0, 0, 1, 0, 1, 1, 1, 0, 1, 0, 1, 1, 0, 1, 1, 1, 1, 0, 1, 0, 1, 1, 1, 1, 0, 1, 0, 0, 0, 0, 0, 1, 1, 1, 1, 0, 0, 0, 1, 1, 0, 1, 1, 1, 0, 1, 1, 1, 1, 1, 0, 1, 0, 1, 0, 1, 0, 1, 1, 0, 1, 0, 1, 0, 1, 0, 0, 1, 1, 1, 1, 0, 0, 0, 0, 0, 1, 0, 0, 0]\n",
      "[0, 1, 1, 1, 1, 1, 1, 0, 1, 1, 1, 0, 1, 1, 0, 0, 1, 1, 0, 1, 0, 0, 0, 1, 1, 1, 1, 0, 0, 1, 0, 0, 0, 0, 1, 1, 1, 1, 0, 0, 1, 0, 1, 0, 0, 0, 1, 0, 0, 0, 1, 0, 1, 1, 1, 1, 1, 0, 1, 0, 0, 1, 0, 0, 1, 1, 1, 0, 0, 0, 1, 0, 0, 1, 0, 0, 1, 0, 1, 0, 1, 1, 0, 1, 1, 1, 1, 0, 1, 1, 1, 0, 0, 0, 1, 0, 0, 1, 1, 1]\n"
     ]
    }
   ],
   "source": [
    "#Ejercicio 4\n",
    "\n",
    "import csv\n",
    "\n",
    "with open(\"datosReales.txt\") as datos:\n",
    "    linea = csv.reader(datos, delimiter=' ')\n",
    "    datos_reales=(list(linea)[0])\n",
    "    \n",
    "    for j in range (len(datos_reales)):\n",
    "        datos_reales[j]=int(datos_reales[j])\n",
    "\n",
    "with open(\"resultadosTest.txt\") as resultados:\n",
    "    linea2 = csv.reader(resultados, delimiter =' ')\n",
    "    results=(list(linea2)[0])\n",
    "    \n",
    "    for i in range (len(results)):\n",
    "        results[i]=int(results[i])\n",
    "#aqui utilice csv para leer los datos y luegos los inclui en una lista, como eran de tipo str los recorri y \n",
    "#los converti en enteros\n",
    "\n",
    "def getCMValues(datos_reales, results):\n",
    "    print (results)\n",
    "    print (datos_reales)\n",
    "#no pude implemetar la comparacion de las listas para entregar los valores de positivos/negativos...\n",
    "#     tp=\n",
    "#     fp=\n",
    "#     tn=\n",
    "#     fn=\n",
    "\n",
    "getCMValues(datos_reales, results)\n",
    "\n",
    "    \n",
    "\n"
   ]
  },
  {
   "cell_type": "code",
   "execution_count": null,
   "id": "e31d2591",
   "metadata": {},
   "outputs": [],
   "source": [
    "#Ejercicio 5\n",
    "\n",
    "def getMetrics(tp,fp,tn,fn):\n",
    "    \n",
    "    accuracy=((tp+tn)/(tp+fp+tn+fn))\n",
    "    precision=((tp)/(tp+fp))\n",
    "    sensibilidad=(tp/(tp+fn))\n",
    "    especificidad=(tn/(tp+fp))\n",
    "\n",
    "#no se realizo la solucion"
   ]
  }
 ],
 "metadata": {
  "kernelspec": {
   "display_name": "Python [conda env:Maxi1] *",
   "language": "python",
   "name": "conda-env-Maxi1-py"
  },
  "language_info": {
   "codemirror_mode": {
    "name": "ipython",
    "version": 3
   },
   "file_extension": ".py",
   "mimetype": "text/x-python",
   "name": "python",
   "nbconvert_exporter": "python",
   "pygments_lexer": "ipython3",
   "version": "3.9.7"
  }
 },
 "nbformat": 4,
 "nbformat_minor": 5
}
